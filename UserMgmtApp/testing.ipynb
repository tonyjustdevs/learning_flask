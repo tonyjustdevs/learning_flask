{
 "cells": [
  {
   "cell_type": "code",
   "execution_count": 30,
   "metadata": {},
   "outputs": [],
   "source": [
    "import sqlite3"
   ]
  },
  {
   "cell_type": "code",
   "execution_count": 31,
   "metadata": {},
   "outputs": [
    {
     "name": "stdout",
     "output_type": "stream",
     "text": [
      "<sqlite3.Cursor object at 0x7f21099ca1c0>\n",
      "<sqlite3.Connection object at 0x7f210a5dc840>\n",
      "[('users',), ('sqlite_autoindex_users_1',), ('sqlite_sequence',), ('books',), ('sqlite_autoindex_books_1',)]\n"
     ]
    }
   ],
   "source": [
    "import sqlite3\n",
    "with sqlite3.connect(\"users.db\") as conn:\n",
    "    cur = conn.cursor()\n",
    "    print(cur) # <sqlite3.Cursor at ...>\n",
    "    print(conn) # <sqlite3.Connection at ...>\n",
    "    res = cur.execute(\"bSELECT name FROM sqlite_master\")\n",
    "    print(res.fetchall()) # shows users tbl existing\n",
    "    "
   ]
  },
  {
   "cell_type": "code",
   "execution_count": 38,
   "metadata": {},
   "outputs": [
    {
     "name": "stdout",
     "output_type": "stream",
     "text": [
      "[(1, 'tony', '1234'), (3, 'tony2', '1234'), (4, 'tony3', '1234'), (5, 'tony4', '1234')]\n",
      "[]\n"
     ]
    }
   ],
   "source": [
    "with sqlite3.connect(\"users.db\") as conn:\n",
    "    cur = conn.cursor()\n",
    "    res = cur.execute(\"SELECT * FROM users\")\n",
    "    print(res.fetchall()) # shows users tbl existing\n",
    "\n",
    "\n",
    "with sqlite3.connect(\"users.db\") as conn:\n",
    "    cur = conn.cursor()\n",
    "    res = cur.execute(\"SELECT * FROM books\")\n",
    "    print(res.fetchall()) # shows users tbl existing\n"
   ]
  },
  {
   "cell_type": "code",
   "execution_count": 33,
   "metadata": {},
   "outputs": [
    {
     "name": "stdout",
     "output_type": "stream",
     "text": [
      "[]\n",
      "\n",
      "[(0, 'book_id', 'INTEGER', 0, None, 1), (1, 'book_title', 'TEXT', 1, None, 0), (2, 'book_author', 'TEXT', 0, None, 0)]\n"
     ]
    }
   ],
   "source": [
    "\n",
    "with sqlite3.connect(\"users.db\") as conn:\n",
    "    cur = conn.cursor()\n",
    "    res = cur.execute(\"SELECT * FROM books\")\n",
    "    print(res.fetchall()) # shows users tbl existing\n",
    "\n",
    "print()\n",
    "with sqlite3.connect(\"users.db\") as conn:\n",
    "    cur = conn.cursor()\n",
    "    res = cur.execute(\"PRAGMA table_info(books)\")\n",
    "    print(res.fetchall()) # shows users tbl existing\n",
    "\n"
   ]
  },
  {
   "cell_type": "code",
   "execution_count": 44,
   "metadata": {},
   "outputs": [
    {
     "name": "stdout",
     "output_type": "stream",
     "text": [
      "('users',)\n",
      "('sqlite_autoindex_users_1',)\n",
      "('sqlite_sequence',)\n",
      "('books',)\n",
      "('sqlite_autoindex_books_1',)\n",
      "('games',)\n",
      "('sqlite_autoindex_games_1',)\n"
     ]
    }
   ],
   "source": [
    "import sqlite3\n",
    "\n",
    "# def check_tbl():\n",
    "with sqlite3.connect(\"users.db\") as conn:\n",
    "    cur = conn.cursor()\n",
    "    res = cur.execute(\"SELECT name FROM sqlite_master\").fetchall()\n",
    "    [print(r) for r in res]b\n",
    "\n",
    "\n"
   ]
  },
  {
   "cell_type": "code",
   "execution_count": 54,
   "metadata": {},
   "outputs": [
    {
     "name": "stdout",
     "output_type": "stream",
     "text": [
      "(1, 'tony', '1234')\n",
      "(3, 'tony2', '1234')\n",
      "(5, 'tony4', '1234')\n"
     ]
    }
   ],
   "source": [
    "with sqlite3.connect(\"users.db\") as conn:\n",
    "    cur = conn.cursor()\n",
    "    res = cur.execute(\"SELECT * FROM users\").fetchall()\n",
    "    [print(r) for r in res]\n"
   ]
  },
  {
   "cell_type": "code",
   "execution_count": 47,
   "metadata": {},
   "outputs": [
    {
     "name": "stdout",
     "output_type": "stream",
     "text": [
      "('games',)\n",
      "('sqlite_autoindex_games_1',)\n",
      "('sqlite_sequence',)\n"
     ]
    }
   ],
   "source": [
    "\n",
    "with sqlite3.connect(\"gaming.db\") as conn:\n",
    "    cur = conn.cursor()\n",
    "    res = cur.execute(\"SELECT name FROM sqlite_master\").fetchall()\n",
    "    [print(r) for r in res]"
   ]
  },
  {
   "cell_type": "code",
   "execution_count": 49,
   "metadata": {},
   "outputs": [],
   "source": [
    "\n",
    "with sqlite3.connect(\"gaming.db\") as conn:\n",
    "    cur = conn.cursor()\n",
    "    res = cur.execute(\"SELECT * FROM games\").fetchall()\n",
    "    [print(r) for r in res]"
   ]
  },
  {
   "cell_type": "code",
   "execution_count": 55,
   "metadata": {},
   "outputs": [
    {
     "name": "stdout",
     "output_type": "stream",
     "text": [
      "\n",
      "[(0, 'game_id', 'INTEGER', 0, None, 1), (1, 'game_tite', 'TEXT', 1, None, 0), (2, 'year', 'INTEGER', 1, None, 0)]\n"
     ]
    }
   ],
   "source": [
    "print()\n",
    "with sqlite3.connect(\"gaming.db\") as conn:\n",
    "    cur = conn.cursor()\n",
    "    res = cur.execute(\"PRAGMA table_info(games)\")\n",
    "    print(res.fetchall()) # shows users tbl existing\n"
   ]
  },
  {
   "cell_type": "code",
   "execution_count": 56,
   "metadata": {},
   "outputs": [],
   "source": [
    "with sqlite3.connect(\"gaming.db\") as conn:\n",
    "    conn.execute(\"ALTER TABLE games RENAME COLUMN game_tite TO game_title\")"
   ]
  },
  {
   "cell_type": "code",
   "execution_count": 57,
   "metadata": {},
   "outputs": [
    {
     "name": "stdout",
     "output_type": "stream",
     "text": [
      "\n",
      "[(0, 'game_id', 'INTEGER', 0, None, 1), (1, 'game_title', 'TEXT', 1, None, 0), (2, 'year', 'INTEGER', 1, None, 0)]\n"
     ]
    }
   ],
   "source": [
    "print()\n",
    "with sqlite3.connect(\"gaming.db\") as conn:\n",
    "    cur = conn.cursor()\n",
    "    res = cur.execute(\"PRAGMA table_info(games)\")\n",
    "    print(res.fetchall()) # shows users tbl existing\n"
   ]
  },
  {
   "cell_type": "code",
   "execution_count": null,
   "metadata": {},
   "outputs": [],
   "source": []
  },
  {
   "cell_type": "code",
   "execution_count": 62,
   "metadata": {},
   "outputs": [
    {
     "name": "stdout",
     "output_type": "stream",
     "text": [
      "[(0, 'id', 'INTEGER', 0, None, 1), (1, 'username', 'TEXT', 1, None, 0), (2, 'password', 'TEXT', 1, None, 0), (3, 'new_id', 'TEXT', 0, None, 0)]\n"
     ]
    }
   ],
   "source": [
    "import uuid\n",
    "with sqlite3.connect(\"users.db\") as conn:\n",
    "    cur = conn.cursor()\n",
    "    res = cur.execute(\"PRAGMA table_info(users)\").fetchall()\n",
    "    print(res)\n",
    "    # conn.execute('ALTER TABLE users REMOVE COLUMN new_id') # 1. Add new UUID column"
   ]
  },
  {
   "cell_type": "code",
   "execution_count": null,
   "metadata": {},
   "outputs": [
    {
     "name": "stdout",
     "output_type": "stream",
     "text": [
      "[(1,), (3,), (5,)]\n"
     ]
    }
   ],
   "source": [
    "import uuid\n",
    "with sqlite3.connect(\"users.db\") as conn:\n",
    "    users = conn.execute('SELECT id FROM users').fetchall() # 2. Generate UUIDs for existing records\n",
    "    print(users)\n",
    "    for user in users:\n",
    "        conn.execute('''\n",
    "            UPDATE users SET new_id = ? WHERE id = ?\n",
    "        ''', (str(uuid.uuid4()), user[0]))"
   ]
  },
  {
   "cell_type": "code",
   "execution_count": 69,
   "metadata": {},
   "outputs": [
    {
     "name": "stdout",
     "output_type": "stream",
     "text": [
      "(1, 'tony', '1234', '73bf1915-728d-4c4c-8b24-71d1e2934e0c')\n",
      "(3, 'tony2', '1234', '27887933-0371-4ceb-8309-b1b36e9e228e')\n",
      "(5, 'tony4', '1234', '9e7cf152-92a6-435a-a585-9f7a23d0ea03')\n",
      "(6, 'tony5', '1234', 'user_004')\n"
     ]
    }
   ],
   "source": [
    "# import uuid\n",
    "with sqlite3.connect(\"users.db\") as conn:\n",
    "    cur = conn.cursor()\n",
    "    users = cur.execute(\"SELECT * FROM users\").fetchall()\n",
    "    [print(user) for user in users]"
   ]
  },
  {
   "cell_type": "code",
   "execution_count": 72,
   "metadata": {},
   "outputs": [
    {
     "name": "stdout",
     "output_type": "stream",
     "text": [
      "(1, 'harry potter 1', 'jk rowling', None)\n",
      "(2, 'pride & prejudice', 'jane austen', None)\n",
      "(3, '1984', 'G Orwell', None)\n",
      "(4, 'hamlet', 'shakespear', None)\n"
     ]
    }
   ],
   "source": [
    "# import uuid\n",
    "with sqlite3.connect(\"users.db\") as conn:\n",
    "    cur = conn.cursor()\n",
    "    books = cur.execute(\"SELECT * FROM books\").fetchall()\n",
    "    [print(book) for book in books]"
   ]
  },
  {
   "cell_type": "code",
   "execution_count": 71,
   "metadata": {},
   "outputs": [],
   "source": [
    "# import uuid\n",
    "with sqlite3.connect(\"users.db\") as conn:\n",
    "    # cur = conn.cursor()\n",
    "    conn.execute(\"ALTER TABLE books ADD COLUMN new_book_id\")\n",
    "\n"
   ]
  },
  {
   "cell_type": "code",
   "execution_count": null,
   "metadata": {},
   "outputs": [],
   "source": [
    "import sqlite3\n",
    "\n",
    "with sqlite3.connect(\"your.db\") as conn:\n",
    "    cur = conn.cursor()\n",
    "    cur.execute(\"SELECT * FROM users\")\n",
    "    row = cur.fetchone()\n",
    "    first_column_value = row[0]\n",
    "    print(first_column_value)\n"
   ]
  },
  {
   "cell_type": "code",
   "execution_count": 77,
   "metadata": {},
   "outputs": [
    {
     "data": {
      "text/plain": [
       "'book_005'"
      ]
     },
     "execution_count": 77,
     "metadata": {},
     "output_type": "execute_result"
    }
   ],
   "source": [
    "def generate_custom_id(prefix=\"user\", chosen_db=\"users.db\", chosen_tbl=\"users\"):\n",
    "    padding=3\n",
    "    with sqlite3.connect(chosen_db) as conn:\n",
    "        cur = conn.cursor()\n",
    "        # sql_query = f\"SELECT * FROM {chosen_tbl}\"\n",
    "        sql_query = f\"SELECT COUNT(*) FROM {chosen_tbl}\"\n",
    "        cur.execute(sql_query)\n",
    "        count = cur.fetchone()[0] + 1\n",
    "        return f\"{prefix}_{str(count).zfill(padding)}\"\n",
    "\n",
    "generate_custom_id(prefix=\"book\", chosen_db=\"users.db\", chosen_tbl=\"books\")"
   ]
  },
  {
   "cell_type": "code",
   "execution_count": 80,
   "metadata": {},
   "outputs": [],
   "source": [
    "def generate_custom_id2(prefix=\"user\", chosen_db=\"users.db\", chosen_tbl=\"users\"):\n",
    "    padding=3\n",
    "    with sqlite3.connect(chosen_db) as conn:\n",
    "        cur = conn.cursor()\n",
    "        sql_query = f\"SELECT book_id FROM {chosen_tbl}\"\n",
    "        # sql_query = f\"SELECT COUNT(*) FROM {chosen_tbl}\"\n",
    "        cur.execute(sql_query)\n",
    "        # print(res)\n",
    "        count = cur.fetchone()[0] + 1\n",
    "        print(count)\n",
    "        return f\"{prefix}_{str(count).zfill(padding)}\""
   ]
  },
  {
   "cell_type": "code",
   "execution_count": 86,
   "metadata": {},
   "outputs": [
    {
     "name": "stdout",
     "output_type": "stream",
     "text": [
      "(1, 'harry potter 1', 'jk rowling', None), 1, book_001\n"
     ]
    },
    {
     "ename": "ProgrammingError",
     "evalue": "Incorrect number of bindings supplied. The current statement uses 1, and there are 8 supplied.",
     "output_type": "error",
     "traceback": [
      "\u001b[0;31m---------------------------------------------------------------------------\u001b[0m",
      "\u001b[0;31mProgrammingError\u001b[0m                          Traceback (most recent call last)",
      "Cell \u001b[0;32mIn[86], line 8\u001b[0m\n\u001b[1;32m      6\u001b[0m \u001b[38;5;28mprint\u001b[39m(\u001b[38;5;124mf\u001b[39m\u001b[38;5;124m\"\u001b[39m\u001b[38;5;132;01m{\u001b[39;00mbook\u001b[38;5;132;01m}\u001b[39;00m\u001b[38;5;124m, \u001b[39m\u001b[38;5;132;01m{\u001b[39;00mbook[\u001b[38;5;241m0\u001b[39m]\u001b[38;5;132;01m}\u001b[39;00m\u001b[38;5;124m, book_\u001b[39m\u001b[38;5;132;01m{\u001b[39;00m\u001b[38;5;28mstr\u001b[39m(book[\u001b[38;5;241m0\u001b[39m])\u001b[38;5;241m.\u001b[39mzfill(\u001b[38;5;241m3\u001b[39m)\u001b[38;5;132;01m}\u001b[39;00m\u001b[38;5;124m\"\u001b[39m)\n\u001b[1;32m      7\u001b[0m new_book_id \u001b[38;5;241m=\u001b[39m \u001b[38;5;124mf\u001b[39m\u001b[38;5;124m'\u001b[39m\u001b[38;5;124mbook_\u001b[39m\u001b[38;5;132;01m{\u001b[39;00m\u001b[38;5;28mstr\u001b[39m(book[\u001b[38;5;241m0\u001b[39m])\u001b[38;5;241m.\u001b[39mzfill(\u001b[38;5;241m3\u001b[39m)\u001b[38;5;132;01m}\u001b[39;00m\u001b[38;5;124m'\u001b[39m\n\u001b[0;32m----> 8\u001b[0m \u001b[43mconn\u001b[49m\u001b[38;5;241;43m.\u001b[39;49m\u001b[43mexecute\u001b[49m\u001b[43m(\u001b[49m\u001b[38;5;124;43m'\u001b[39;49m\u001b[38;5;124;43mINSERT INTO books (new_book_id) VALUES (?)\u001b[39;49m\u001b[38;5;124;43m'\u001b[39;49m\u001b[43m,\u001b[49m\u001b[43m \u001b[49m\u001b[43m(\u001b[49m\u001b[43mnew_book_id\u001b[49m\u001b[43m)\u001b[49m\u001b[43m)\u001b[49m\n",
      "\u001b[0;31mProgrammingError\u001b[0m: Incorrect number of bindings supplied. The current statement uses 1, and there are 8 supplied."
     ]
    }
   ],
   "source": [
    "# import uuid\n",
    "with sqlite3.connect(\"users.db\") as conn:\n",
    "    cur = conn.cursor()\n",
    "    books = cur.execute(\"SELECT * FROM books\").fetchall()\n",
    "    for book in books:\n",
    "        print(f\"{book}, {book[0]}, book_{str(book[0]).zfill(3)}\")\n",
    "        new_book_id = f'book_{str(book[0]).zfill(3)}'\n",
    "        conn.execute('INSERT INTO books (new_book_id) VALUES (?)', (new_book_id))\n"
   ]
  },
  {
   "cell_type": "code",
   "execution_count": 87,
   "metadata": {},
   "outputs": [
    {
     "name": "stdout",
     "output_type": "stream",
     "text": [
      "(1, 1, 'harry potter 1', 'jk rowling', None), 1, book_001\n",
      "(2, 2, 'pride & prejudice', 'jane austen', None), 2, book_002\n",
      "(3, 3, '1984', 'G Orwell', None), 3, book_003\n",
      "(4, 4, 'hamlet', 'shakespear', None), 4, book_004\n"
     ]
    }
   ],
   "source": [
    "# Step 2: Update each row with the new book ID\n",
    "with sqlite3.connect(\"users.db\") as conn:\n",
    "    cur = conn.cursor()\n",
    "    books = cur.execute(\"SELECT rowid, * FROM books\").fetchall()\n",
    "    \n",
    "    for book in books:\n",
    "        original_id = book[0]  # rowid or book_id\n",
    "        new_book_id = f\"book_{str(original_id).zfill(3)}\"\n",
    "        print(f\"{book}, {original_id}, {new_book_id}\")\n",
    "        \n",
    "        cur.execute(\n",
    "            \"UPDATE books SET new_book_id = ? WHERE rowid = ?\", \n",
    "            (new_book_id, original_id)\n",
    "        )\n",
    "    \n",
    "    # conn.commit()"
   ]
  },
  {
   "cell_type": "code",
   "execution_count": 88,
   "metadata": {},
   "outputs": [
    {
     "name": "stdout",
     "output_type": "stream",
     "text": [
      "(1, 'harry potter 1', 'jk rowling', 'book_001')\n",
      "(2, 'pride & prejudice', 'jane austen', 'book_002')\n",
      "(3, '1984', 'G Orwell', 'book_003')\n",
      "(4, 'hamlet', 'shakespear', 'book_004')\n"
     ]
    }
   ],
   "source": [
    "# import uuid\n",
    "with sqlite3.connect(\"users.db\") as conn:\n",
    "    cur = conn.cursor()\n",
    "    books = cur.execute(\"SELECT * FROM books\").fetchall()\n",
    "    [print(book) for book in books]"
   ]
  }
 ],
 "metadata": {
  "kernelspec": {
   "display_name": ".venv",
   "language": "python",
   "name": "python3"
  },
  "language_info": {
   "codemirror_mode": {
    "name": "ipython",
    "version": 3
   },
   "file_extension": ".py",
   "mimetype": "text/x-python",
   "name": "python",
   "nbconvert_exporter": "python",
   "pygments_lexer": "ipython3",
   "version": "3.10.12"
  }
 },
 "nbformat": 4,
 "nbformat_minor": 2
}
