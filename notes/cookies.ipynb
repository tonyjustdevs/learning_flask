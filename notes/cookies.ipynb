{
 "cells": [
  {
   "cell_type": "markdown",
   "metadata": {},
   "source": [
    "## 1. Cookies & Sessions\n",
    "\n",
    "Goal: \n",
    "- Keep track of information (store) for multiple requests\n",
    "- Considerations:\n",
    "    - Location\n",
    "    - Security\n",
    "\n"
   ]
  },
  {
   "cell_type": "markdown",
   "metadata": {},
   "source": [
    "# 2. Flask built-in session object\n",
    "\n",
    "`from flask import session`\n",
    "\n",
    "|Type|Pupose|Storage|Comments|\n",
    "|-|-|-|-|\n",
    "|Proxy object (like dictionary) | Store & retrieve data on a ***per-client*** basis.<br>Client-side sessions.|Session data in a ***secure cookie*** on the *client* (browser).|..|\n",
    "|...|...|...|...|\n"
   ]
  },
  {
   "cell_type": "code",
   "execution_count": null,
   "metadata": {},
   "outputs": [],
   "source": [
    "from flask import Flask, session\n",
    "\n",
    "app = Flask(__name__)\n",
    "app.secret_key = 'your_secret_key'\n",
    "\n",
    "@app.route('/set')\n",
    "def set_session():\n",
    "    session['username'] = 'tony'\n",
    "    return 'Session set!'\n",
    "\n",
    "@app.route('/get')\n",
    "def get_session():\n",
    "    return session.get('username', 'Not set')\n"
   ]
  },
  {
   "cell_type": "code",
   "execution_count": null,
   "metadata": {},
   "outputs": [],
   "source": []
  },
  {
   "cell_type": "code",
   "execution_count": null,
   "metadata": {},
   "outputs": [],
   "source": []
  },
  {
   "cell_type": "code",
   "execution_count": null,
   "metadata": {},
   "outputs": [],
   "source": []
  },
  {
   "cell_type": "markdown",
   "metadata": {},
   "source": [
    "# OLD NOTES"
   ]
  },
  {
   "cell_type": "markdown",
   "metadata": {},
   "source": [
    "Solution 1: \n",
    "- **Cookies** on *Client-Side*\n",
    "    - Information stored in clients browser\n",
    "\n",
    "Solution 2: \n",
    "- **Sessions** on *Server-Side*\n",
    "    - **Session-ID** provided to client\n",
    "    - Signed with **Secret-Key**\n",
    "    - Information stored on server\n"
   ]
  },
  {
   "cell_type": "markdown",
   "metadata": {},
   "source": [
    "# 2. Sessions: Server-Side Storage\n",
    "\n",
    "|Step|Action|Example|Comments|\n",
    "|-|-|-|-|\n",
    "|1.|Set **Secret_Key**|`app.secret_key=...`|Allows issue of **Session_IDs** for individual users on server-side.|\n",
    "|2.|Import **session** module|`import session`|...|\n",
    "|3.|Update index with jinja msg|`import session`|...|\n",
    "|4.|Add **set_data** route|`url_for('py_fn')...`|Include:<br> - jinja_msg in p tag based on route<br> - anchor url_for set_data|\n",
    "|5.|Set User's **session** values |`session['name']=...`|**session** is a python dictionary for each user.<br><br>**session** data is: <br> - *sensitve* data <br> - data not to be changed or seen by user<br> - data trusted on server side, <br> - data produced/configured on server-side (ie app.py).<br> - associated with a **Session_ID**|\n",
    "|6.|Browser: Inspect Session Cookies Value|`F12`|Open Browser's Deverlop Tools (F12):<br>- Session ID Values should appear but unreadable by hoomans<br>- **Session_ID**<br>- Stored in browser to identify user to server|\n",
    "|7.|Add **get_data** route|`url_for('py_fn')...`|Same as 4.|\n",
    "|8.|Add **clear_data** route|`url_for('py_fn')...`|Same as 4.|"
   ]
  },
  {
   "cell_type": "markdown",
   "metadata": {},
   "source": [
    "# 3. Cookies: Client-Side Storage\n",
    "Server sends back a `response`:\n",
    "- The response ***instructs*** the browser to make the **cookie** (client-side)\n",
    "    - Unlike **session**, where server simply set the cookie values (itself)\n",
    "\n",
    "    "
   ]
  },
  {
   "cell_type": "markdown",
   "metadata": {},
   "source": [
    "|Step|Action|Example|Comments|\n",
    "|-|-|-|-|\n",
    "|1.|Create **Response** Object|`make_response(...)`|Wrap a `render_template()` by a `make_reponse()`|\n",
    "|2.|Set **Cookie_Value** on response object|`resp.set_cookie(🍪,🍪_value)`|Set cookie attribute of the response object & `return response` object|\n",
    "|3.|Get **Cookie_Value** |`request.cookies['🍪']`|Get cookies values via python dictionary of `request.cookies`|\n",
    "|4.|Delete **Cookie_Value**|`resp.set_cookie(🍪,expires=0)`|Set cookies expiration `expires` to 0 to delete the cookie & `return response` object|"
   ]
  },
  {
   "cell_type": "code",
   "execution_count": null,
   "metadata": {},
   "outputs": [],
   "source": []
  },
  {
   "cell_type": "code",
   "execution_count": null,
   "metadata": {
    "vscode": {
     "languageId": "html"
    }
   },
   "outputs": [],
   "source": [
    "<!--     \n",
    "    <a href={{url_for('set_cookie_fn')}}>Set Cookies.</a><br>\n",
    "    <a href={{url_for('get_cookie_fn')}}>Get Cookies.</a><br>\n",
    "    <a href={{url_for('clear_cookie_fn')}}>Clear Cookies.</a><br>\n",
    "    <a href={{url_for('set_session_fn')}}>Set Session Data.</a><br>\n",
    "    <a href={{url_for('get_session_fn')}}>Get Session Data.</a><br>\n",
    "    <a href={{url_for('clear_session_fn')}}>Clear Session.</a><br> -->\n",
    "\n"
   ]
  },
  {
   "cell_type": "code",
   "execution_count": null,
   "metadata": {},
   "outputs": [],
   "source": []
  },
  {
   "cell_type": "code",
   "execution_count": null,
   "metadata": {},
   "outputs": [],
   "source": []
  },
  {
   "cell_type": "code",
   "execution_count": null,
   "metadata": {},
   "outputs": [],
   "source": []
  },
  {
   "cell_type": "markdown",
   "metadata": {},
   "source": [
    "# Tunneling 101\n",
    "\n",
    "cloudflare (https://github.com/cloudflare/cloudflared/releases)\n",
    "uninstall\n",
    "sudo rm /usr/local/bin/cloudflared (easy because binaries are manually placed)\n",
    "rm -rf ~/.cloudflared  (as above)\n",
    "\n",
    "install\n",
    "wget https://github.com/cloudflare/cloudflared/releases/download/2025.4.0/cloudflared-linux-amd64\n",
    "chmod +x cloudflared-linux-amd64\n",
    "sudo mv cloudflared-linux-amd64 /usr/local/bin/cloudflared\n",
    "cloudflared --version\n",
    "cloudflared tunnel --url http://localhost:5000\n",
    "\n",
    "localtunnel\n",
    "uninstall\n",
    "ll $(which lt)   (check how installed, and then uninstall)\n",
    "npm uninstall -g localtunnel\n",
    "which lt\n",
    "\n",
    "install\n",
    "npm install -g localtunnel\n",
    "npm list -g --depth=0 (That will show all globally installed npm packages)\n",
    "lt --port 5000\n",
    "\n",
    "ngrok\n",
    "uninstall - deepseek\n",
    "dpkg -l | grep (check if installed via apt/dpkg .deb)\n",
    "sudo apt remove --purge ngrok # Purge all traces (even configs)\n",
    "sudo rm -f /usr/bin/ngrok /usr/local/bin/ngrok # Manually delete leftovers\n",
    "rm -rf ~/.config/ngrok\n",
    "\n",
    "\n",
    "uinstall - chatgpt\n",
    "sudo apt remove ngrok\n",
    "\n",
    "actual install - https://dashboard.ngrok.com/get-started/setup/linux\n",
    "\n",
    "install - deep\n",
    "sudo apt update && sudo apt install ngrok\n",
    "ngrok config add-authtoken <your_token>\n",
    "ngrok http 5000\n"
   ]
  },
  {
   "cell_type": "code",
   "execution_count": null,
   "metadata": {},
   "outputs": [],
   "source": []
  },
  {
   "cell_type": "code",
   "execution_count": null,
   "metadata": {},
   "outputs": [],
   "source": []
  },
  {
   "cell_type": "code",
   "execution_count": null,
   "metadata": {},
   "outputs": [],
   "source": []
  },
  {
   "cell_type": "code",
   "execution_count": null,
   "metadata": {},
   "outputs": [],
   "source": []
  }
 ],
 "metadata": {
  "kernelspec": {
   "display_name": "blog-T-2huGx2",
   "language": "python",
   "name": "python3"
  },
  "language_info": {
   "name": "python",
   "version": "3.10.12"
  }
 },
 "nbformat": 4,
 "nbformat_minor": 2
}
