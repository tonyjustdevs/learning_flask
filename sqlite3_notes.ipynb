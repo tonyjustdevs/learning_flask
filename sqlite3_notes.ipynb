{
 "cells": [
  {
   "cell_type": "code",
   "execution_count": 3,
   "metadata": {},
   "outputs": [
    {
     "name": "stdout",
     "output_type": "stream",
     "text": [
      "/home/tonydevs/learn/sql/sql_proj_1/.venv_sql_proj_1/bin/python3\n"
     ]
    },
    {
     "name": "stdout",
     "output_type": "stream",
     "text": [
      "/home/tonydevs/learn/sql/sql_proj_1/.venv_sql_proj_1/bin/pip\n",
      "\u001b[33mWARNING: Package(s) not found: sqlite3\u001b[0m\u001b[33m\n",
      "\u001b[0m"
     ]
    }
   ],
   "source": [
    "!which python3\n",
    "!which pip\n",
    "!pip show sqlite3"
   ]
  },
  {
   "cell_type": "markdown",
   "metadata": {},
   "source": [
    "References: \n",
    "\n",
    "- ref 1: https://docs.python.org/3.10/library/sqlite3.html\n",
    "- ref 2: https://peps.python.org/pep-0249/\n",
    "- ref 3: https://wiki.python.org/moin/DatabaseProgramming\n",
    "- ref 4: https://wiki.python.org/moin/DatabaseInterfaces\n"
   ]
  },
  {
   "cell_type": "markdown",
   "metadata": {},
   "source": [
    "### 1. **Connection** Object \n",
    "`con = sqlite3.connect(\"tutorial.db\")`"
   ]
  },
  {
   "cell_type": "markdown",
   "metadata": {},
   "source": [
    "#### 1.1 **Connection Object** (`con`) \n",
    "The **Connection Object** (`con`) is created:\n",
    "- The returned object `con` points to **Tutorial Database** (`tutorial.db`)\n",
    "- It represents the *connection* to the on-disk database."
   ]
  },
  {
   "cell_type": "markdown",
   "metadata": {},
   "source": [
    "#### 1.2 **Tutorial Database** (`tutorial.db`)\n",
    "The **Tutorial Database** (`tutorial.db`) is ***created*** if it didn't exist."
   ]
  },
  {
   "cell_type": "code",
   "execution_count": null,
   "metadata": {},
   "outputs": [
    {
     "data": {
      "text/plain": [
       "<sqlite3.Connection at 0x7f3044688e40>"
      ]
     },
     "execution_count": 20,
     "metadata": {},
     "output_type": "execute_result"
    }
   ],
   "source": [
    "import sqlite3\n",
    "con = sqlite3.connect(\"tutorial.db\")\n",
    "con # <sqlite3.Connection at ...>"
   ]
  },
  {
   "cell_type": "markdown",
   "metadata": {},
   "source": [
    "### 2. **Database Cursor**\n",
    "`cur = con.cursor()`\n",
    "\n",
    "#### 2.1 The **Database Cursor** (`con.cursor()`)\n",
    "The `cur` object is ***required*** to: \n",
    "- *execute* `SQL` statements and \n",
    "- *fetch* results"
   ]
  },
  {
   "cell_type": "code",
   "execution_count": 18,
   "metadata": {},
   "outputs": [
    {
     "data": {
      "text/plain": [
       "<sqlite3.Cursor at 0x7f30442673c0>"
      ]
     },
     "execution_count": 18,
     "metadata": {},
     "output_type": "execute_result"
    }
   ],
   "source": [
    "cur = con.cursor()\n",
    "cur # <sqlite3.Cursor at ...>"
   ]
  },
  {
   "cell_type": "markdown",
   "metadata": {},
   "source": [
    "### 3. **Execute** SQL COMMANDS\n",
    "Use **database cursor** (`cur`) to **execute** SQL commands:\n",
    "- `cur.execute(...)`\n",
    "\n",
    "\n",
    "#### 3.1. Creating a Table (`CREATE TABLE ...`):\n",
    "***Optional*** data-types (flexible typing feature):\n",
    "- `cur.execute(\"CREATE TABLE movie(title, year, score)\")`"
   ]
  },
  {
   "cell_type": "markdown",
   "metadata": {},
   "source": [
    "#### 3.2 Verify With `sqlite_master` Table \n",
    "`res = cur.execute(\"SELECT name FROM sqlite_master\")` then `res.fetchone()`\n",
    "\n",
    "`sqlite_master` table is **built-in** to SQLite:\n",
    "- ***Verify*** new `table` has been *created* by querying `sqlite_master` \n",
    "- It will contain `movie` table definition entry\n",
    "- Assign to `res`, and ***call*** `res.fetchone()`\n",
    "    - ***Return*** `('movie',)` or `None` (if non-existant)\n",
    "\n",
    "\n"
   ]
  },
  {
   "cell_type": "code",
   "execution_count": 29,
   "metadata": {},
   "outputs": [
    {
     "name": "stdout",
     "output_type": "stream",
     "text": [
      "('movie',)\n",
      "True\n"
     ]
    }
   ],
   "source": [
    "res = cur.execute(\"SELECT name FROM sqlite_master\")\n",
    "print(res.fetchone())\n",
    "res = cur.execute(\"SELECT name FROM sqlite_master WHERE name='spam'\")\n",
    "print(res.fetchone() is None)"
   ]
  },
  {
   "cell_type": "markdown",
   "metadata": {},
   "source": [
    "#### 3.3. Inserting Data \n",
    "Pattern: \n",
    "- `INSERT INTO tbl_nm (col_nm_1, ...) VALUES (val_nm_1, ...)`\n",
    "\n",
    "Add two rows of data via `INSERT` statement by ***calling*** `cur.execute(...)`"
   ]
  },
  {
   "cell_type": "code",
   "execution_count": 31,
   "metadata": {},
   "outputs": [
    {
     "data": {
      "text/plain": [
       "<sqlite3.Cursor at 0x7f30442673c0>"
      ]
     },
     "execution_count": 31,
     "metadata": {},
     "output_type": "execute_result"
    }
   ],
   "source": [
    "cur.execute(\"\"\"\n",
    "    INSERT INTO movie VALUES\n",
    "        ('Monty Python and the Holy Grail', 1975, 8.2),\n",
    "        ('And Now for Something Completely Different', 1971, 7.5)\n",
    "\"\"\")"
   ]
  },
  {
   "cell_type": "markdown",
   "metadata": {},
   "source": [
    "#### 3.4. Commiting Transaction\n",
    "The INSERT statement ***implicitly*** opens a `transaction`: \n",
    "- which ***needs*** to be ***committed*** \n",
    "- before changes are saved in the database (see `Transaction` control):\n",
    "\n",
    "***Call*** `con.commit()` to ***commit*** the `transaction`.\n"
   ]
  },
  {
   "cell_type": "code",
   "execution_count": 32,
   "metadata": {},
   "outputs": [],
   "source": [
    "con.commit()"
   ]
  },
  {
   "cell_type": "code",
   "execution_count": 33,
   "metadata": {},
   "outputs": [
    {
     "data": {
      "text/plain": [
       "<sqlite3.Connection at 0x7f3044688e40>"
      ]
     },
     "execution_count": 33,
     "metadata": {},
     "output_type": "execute_result"
    }
   ],
   "source": [
    "con"
   ]
  },
  {
   "cell_type": "markdown",
   "metadata": {},
   "source": [
    "#### 3.5. Verifying Commitment\n",
    "To ***verify*** the inserted data:\n",
    "- Use `cur.execute(...)` to \n",
    "- ***execute*** a `SELECT` query\n",
    "- ***assign*** result to `res`, \n",
    "- ***call*** `res.fetchall()` to return all resulting rows"
   ]
  },
  {
   "cell_type": "code",
   "execution_count": 38,
   "metadata": {},
   "outputs": [
    {
     "ename": "OperationalError",
     "evalue": "near \".\": syntax error",
     "output_type": "error",
     "traceback": [
      "\u001b[0;31m---------------------------------------------------------------------------\u001b[0m",
      "\u001b[0;31mOperationalError\u001b[0m                          Traceback (most recent call last)",
      "Cell \u001b[0;32mIn[38], line 1\u001b[0m\n\u001b[0;32m----> 1\u001b[0m \u001b[43mcur\u001b[49m\u001b[38;5;241;43m.\u001b[39;49m\u001b[43mexecute\u001b[49m\u001b[43m(\u001b[49m\u001b[38;5;124;43m\"\u001b[39;49m\u001b[38;5;124;43m.mode column\u001b[39;49m\u001b[38;5;124;43m\"\u001b[39;49m\u001b[43m)\u001b[49m\n",
      "\u001b[0;31mOperationalError\u001b[0m: near \".\": syntax error"
     ]
    }
   ],
   "source": [
    "cur.execute(\".mode column\")"
   ]
  },
  {
   "cell_type": "code",
   "execution_count": 35,
   "metadata": {},
   "outputs": [
    {
     "data": {
      "text/plain": [
       "[('Monty Python and the Holy Grail', 1975, 8.2),\n",
       " ('And Now for Something Completely Different', 1971, 7.5),\n",
       " ('Monty Python and the Holy Grail', 1975, 8.2),\n",
       " ('And Now for Something Completely Different', 1971, 7.5)]"
      ]
     },
     "execution_count": 35,
     "metadata": {},
     "output_type": "execute_result"
    }
   ],
   "source": [
    "res = cur.execute(\"SELECT * FROM movie\")\n",
    "res.fetchall()"
   ]
  },
  {
   "cell_type": "code",
   "execution_count": null,
   "metadata": {},
   "outputs": [],
   "source": []
  },
  {
   "cell_type": "code",
   "execution_count": null,
   "metadata": {},
   "outputs": [],
   "source": [
    "import sqlite3\n",
    "\n",
    "con = sqlite3.connect(\"tony_OG.db\")\n",
    "cur = con.cursor()\n",
    "\n",
    "print(f\"Connection Established: \\t{con} | Connection level (None is auto-commit): {con.isolation_level}\")\n",
    "print(f\"Cursor Created:     \\t\\t{cur}\")\n",
    "\n",
    "### 1. VALIDATE TABLE EXISTENCE\n",
    "res = cur.execute(\"SELECT NAME FROM sqlite_master\").fetchone()\n",
    "print(f\"1_validate_tbl_existence[sqlite_master]: {res}\") #('users',)\n",
    "# res = cur.execute(\"SELECT NAME FROM sqlite_master where NAME = 'spam \") # None\n",
    "\n",
    "\n",
    "### 2. GET DATA from user TBL\n",
    "### 2a. get all - fetchall()\n",
    "res = cur.execute(\"\"\"SELECT * from users\"\"\").fetchall()\n",
    "print(f\"2a_select*from_users[fetchall()]: {res}\")\n",
    "print()\n",
    "# print(f\"tony id: {res[0][0]}\")\n",
    "# print(f\"tony name: {res[0][1]}\")\n",
    "# print(f\"tony age: {res[0][2]}\")\n",
    "\n",
    "### 2b. get one row - fetchone()\n",
    "res = cur.execute(\"\"\"SELECT * from users\"\"\").fetchone()\n",
    "print()\n",
    "print(f\"2b_select*from_users[fetchone()]: {res}\") \n",
    "# print(f\"one-row expected: {res}\")\n",
    "\n",
    "### 2c. get some rows - fetchmany(n)\n",
    "res = cur.execute(\"\"\"SELECT * from users\"\"\").fetchmany(2)\n",
    "print()\n",
    "print(f\"2c_select*from_users[fetchmany(2)]: {res}\") \n",
    "\n",
    "#################################################################################\n",
    "\n",
    "### 3. INSERT INTO user TBL\n",
    "# 3a INSERT 1 OR FEW: execute without commit\n",
    "\n",
    "# The INSERT statement implicitly opens a transaction, \n",
    "# which needs to be committed before changes are saved in the database \n",
    "# Call con.commit() on the connection object to commit the transaction:\n",
    "cur.execute(\"INSERT INTO users (name, age) VALUES ('iniesta', 50),('xavi', 80)\")\n",
    "\n",
    "\n",
    "print()\n",
    "res = cur.execute(\"SELECT * FROM users\").fetchall()\n",
    "print(f\"3a_insert_wout_con_commit: {res}\") \n",
    "\n",
    "\n",
    "# 3a INSERT MANY with LIST:\n",
    "input_data_list = [\n",
    "    ('pedri',123,\"default@barca.com\"),\n",
    "    ('gavi',231,\"default@barca.com\"),\n",
    "    ('baldi',444,\"default@barca.com\")\n",
    "]\n",
    "cur.executemany(\"INSERT INTO users (name,age,email) VALUES (?, ?, ?)\", input_data_list)\n",
    "\n",
    "print()\n",
    "res = cur.execute(\"SELECT * FROM users\").fetchall()\n",
    "print(f\"3b_insert_many_wout_con_commit: {res}\") \n",
    "con.commit()\n",
    "con.close()\n"
   ]
  }
 ],
 "metadata": {
  "kernelspec": {
   "display_name": ".venv_sql_proj_1",
   "language": "python",
   "name": "python3"
  },
  "language_info": {
   "codemirror_mode": {
    "name": "ipython",
    "version": 3
   },
   "file_extension": ".py",
   "mimetype": "text/x-python",
   "name": "python",
   "nbconvert_exporter": "python",
   "pygments_lexer": "ipython3",
   "version": "3.10.12"
  }
 },
 "nbformat": 4,
 "nbformat_minor": 2
}
